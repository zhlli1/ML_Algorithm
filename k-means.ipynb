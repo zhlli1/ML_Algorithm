{
 "cells": [
  {
   "cell_type": "markdown",
   "metadata": {},
   "source": [
    "#  K-Means Clustering "
   ]
  },
  {
   "cell_type": "markdown",
   "metadata": {},
   "source": [
    "### Introduction "
   ]
  },
  {
   "cell_type": "markdown",
   "metadata": {},
   "source": [
    "K-means clusering is a type of undupervised learning, which is used  when you have unlabeled data (without defined categories or groups). The goal of this algorithm is to find groups in the dat, with the number of groups represented by the variable K.  The K-means clustering algorithm uses iterative frefinement to produce a final result. The algorithm inputs are the number of clusters K and the data set. "
   ]
  },
  {
   "cell_type": "markdown",
   "metadata": {},
   "source": [
    "There are 3 steps:\n",
    "* Initialization - K initial centroids are generated at random \n",
    "* Assignment - K clusters are crated by associating each observation with the nearst centroid\n",
    "* Update the centroid of the clusters becomes the new mean\n",
    "\n",
    "Repeat steps 2 and 3 until the label not change or it reach to the maximum iterations"
   ]
  },
  {
   "cell_type": "code",
   "execution_count": 185,
   "metadata": {},
   "outputs": [],
   "source": [
    "import numpy as np \n",
    "import pandas as pd \n",
    "import matplotlib.pylab as plt"
   ]
  },
  {
   "cell_type": "markdown",
   "metadata": {},
   "source": [
    "Step 1: initialization -K initial centroids are generated at random "
   ]
  },
  {
   "cell_type": "code",
   "execution_count": 37,
   "metadata": {},
   "outputs": [],
   "source": [
    "def initialization(data, k) :\n",
    "    \"\"\" Given the data and number of clusters, create the initial centroids of clusters \"\"\"\n",
    "    n_row, n_col = data.shape[0], data.shape[1]\n",
    "    centrods = []\n",
    "    for i in range(k) :\n",
    "        new = []\n",
    "        for j in range(n_col) :\n",
    "            min_num = int(min(data[:,j]))\n",
    "            max_num = int(max(data[:,j]))\n",
    "            tem = np.random.choice(list(range(min_num, max_num)))\n",
    "            new.append(tem)\n",
    "        centrods.append(new)\n",
    "    return centrods"
   ]
  },
  {
   "cell_type": "markdown",
   "metadata": {},
   "source": [
    "Step 2: Assignment - K clusters are crated by associating each observation with the nearst centroid"
   ]
  },
  {
   "cell_type": "code",
   "execution_count": 69,
   "metadata": {},
   "outputs": [],
   "source": [
    "def distance(point,centroid):\n",
    "    \"\"\" Given one point and one centroid vector, calculated the Euclidean distance\"\"\"\n",
    "    return np.sqrt(np.sum((point-centroid)**2))\n",
    "    \n",
    "def assign_label_cluster (data, centroids):\n",
    "    \"\"\" Given the data and centroids generated from initialization function,\n",
    "    return the label of all datapoint \"\"\"\n",
    "    n_row, n_col = data.shape[0], data.shape[1]\n",
    "    lab = []\n",
    "    for i in range(n_row):\n",
    "        dist = []\n",
    "        for cent in centroids:\n",
    "            dist.append(distance(cent, data[i,:]))\n",
    "        lab.append(dist.index(min(dist)))\n",
    "    return lab"
   ]
  },
  {
   "cell_type": "markdown",
   "metadata": {},
   "source": [
    "Step 3: Update the centroid of the clusters becomes the new mean"
   ]
  },
  {
   "cell_type": "code",
   "execution_count": 103,
   "metadata": {},
   "outputs": [],
   "source": [
    "def update_centroids(data, labels):\n",
    "    \"\"\" Given data, labels for each data point and centroids, return the new centroids \"\"\"\n",
    "    map_fun = {}\n",
    "    for lab in labels:\n",
    "        map_fun[lab] = []\n",
    "    for i,lab in enumerate(labels) :  \n",
    "            map_fun[lab].append(data[i])\n",
    "    new = []\n",
    "    for value in map_fun.values():\n",
    "       new.append(np.mean(value, axis =0))\n",
    "    return new "
   ]
  },
  {
   "cell_type": "markdown",
   "metadata": {},
   "source": [
    "The Final Algorithm: Wrap up all the functions above. "
   ]
  },
  {
   "cell_type": "code",
   "execution_count": 148,
   "metadata": {},
   "outputs": [],
   "source": [
    "def k_means(data, k, iteration) :\n",
    "    \"\"\" Givend data and number of clusters, return the label of each data point and the\n",
    "    centroid of the clusters.  \"\"\"\n",
    "    center = initialization(data, k)\n",
    "    labels = assign_label_cluster (data, center)\n",
    "    label_list =[]\n",
    "    for i in range(iteration):\n",
    "        center = update_centroids(data, labels)\n",
    "        labels = assign_label_cluster (data, center)\n",
    "        label_list.append(labels)\n",
    "        if label_list[i] == label_list[i-1] : break \n",
    "    return (labels, center)\n",
    "    "
   ]
  },
  {
   "cell_type": "markdown",
   "metadata": {},
   "source": [
    "### K-Means Implementations -- Scratch"
   ]
  },
  {
   "cell_type": "code",
   "execution_count": 181,
   "metadata": {},
   "outputs": [],
   "source": [
    "from sklearn.datasets import load_iris \n",
    "data = load_iris() \n",
    "data = data.data \n",
    "label, centroids = k_means(data, 5, 1000)"
   ]
  },
  {
   "cell_type": "code",
   "execution_count": 182,
   "metadata": {},
   "outputs": [
    {
     "data": {
      "text/plain": [
       "array([0, 0, 0, 0, 0, 0, 0, 0, 0, 0, 0, 0, 0, 0, 0, 0, 0, 0, 0, 0, 0, 0,\n",
       "       0, 0, 1, 0, 0, 0, 0, 1, 0, 0, 0, 0, 0, 0, 0, 0, 0, 0, 0, 0, 0, 0,\n",
       "       1, 0, 0, 0, 0, 0, 2, 2, 2, 3, 2, 3, 2, 3, 2, 3, 3, 3, 3, 4, 3, 2,\n",
       "       3, 3, 4, 3, 3, 3, 4, 4, 3, 2, 2, 2, 3, 3, 3, 3, 3, 4, 3, 3, 2, 4,\n",
       "       3, 3, 3, 3, 3, 3, 3, 3, 3, 3, 3, 3, 2, 4, 2, 2, 2, 2, 3, 2, 2, 2,\n",
       "       2, 2, 2, 4, 4, 2, 2, 2, 2, 4, 2, 3, 2, 2, 2, 2, 2, 2, 2, 2, 2, 2,\n",
       "       2, 2, 4, 2, 2, 2, 3, 2, 2, 2, 4, 2, 2, 2, 2, 2, 2, 4])"
      ]
     },
     "execution_count": 182,
     "metadata": {},
     "output_type": "execute_result"
    }
   ],
   "source": [
    "np.array(label)"
   ]
  },
  {
   "cell_type": "code",
   "execution_count": 184,
   "metadata": {},
   "outputs": [
    {
     "data": {
      "text/plain": [
       "[array([5.01020408, 3.42857143, 1.45306122, 0.24693878]),\n",
       " array([4.8, 3.4, 1.9, 0.2]),\n",
       " array([6.52028986, 2.8884058 , 5.0942029 , 1.73188406]),\n",
       " array([5.64444444, 2.87407407, 4.38888889, 1.56296296]),\n",
       " array([5.975, 2.575, 5.15 , 1.475])]"
      ]
     },
     "execution_count": 184,
     "metadata": {},
     "output_type": "execute_result"
    }
   ],
   "source": [
    "centroids"
   ]
  },
  {
   "cell_type": "markdown",
   "metadata": {},
   "source": [
    "### K-Means Implementation -- sklearn"
   ]
  },
  {
   "cell_type": "code",
   "execution_count": 173,
   "metadata": {},
   "outputs": [],
   "source": [
    "from sklearn.cluster import KMeans"
   ]
  },
  {
   "cell_type": "code",
   "execution_count": 176,
   "metadata": {},
   "outputs": [
    {
     "data": {
      "text/plain": [
       "array([0, 0, 0, 0, 0, 0, 0, 0, 0, 0, 0, 0, 0, 0, 0, 0, 0, 0, 0, 0, 0, 0,\n",
       "       0, 0, 0, 0, 0, 0, 0, 0, 0, 0, 0, 0, 0, 0, 0, 0, 0, 0, 0, 0, 0, 0,\n",
       "       0, 0, 0, 0, 0, 0, 4, 4, 4, 3, 4, 4, 4, 3, 4, 3, 3, 4, 3, 4, 3, 4,\n",
       "       4, 3, 4, 3, 4, 3, 4, 4, 4, 4, 4, 4, 4, 3, 3, 3, 3, 4, 3, 4, 4, 4,\n",
       "       3, 3, 3, 4, 3, 3, 3, 3, 3, 4, 3, 3, 1, 4, 2, 1, 1, 2, 3, 2, 1, 2,\n",
       "       1, 1, 1, 4, 1, 1, 1, 2, 2, 4, 1, 4, 2, 4, 1, 2, 4, 4, 1, 2, 2, 2,\n",
       "       1, 4, 4, 2, 1, 1, 4, 1, 1, 1, 4, 1, 1, 1, 4, 1, 1, 4], dtype=int32)"
      ]
     },
     "execution_count": 176,
     "metadata": {},
     "output_type": "execute_result"
    }
   ],
   "source": [
    "kmeans = KMeans(n_clusters = 5, max_iter = 1000).fit(data)\n",
    "kmeans.labels_"
   ]
  },
  {
   "cell_type": "code",
   "execution_count": 183,
   "metadata": {},
   "outputs": [
    {
     "data": {
      "text/plain": [
       "array([[5.006     , 3.428     , 1.462     , 0.246     ],\n",
       "       [6.52916667, 3.05833333, 5.50833333, 2.1625    ],\n",
       "       [7.475     , 3.125     , 6.3       , 2.05      ],\n",
       "       [5.508     , 2.6       , 3.908     , 1.204     ],\n",
       "       [6.20769231, 2.85384615, 4.74615385, 1.56410256]])"
      ]
     },
     "execution_count": 183,
     "metadata": {},
     "output_type": "execute_result"
    }
   ],
   "source": [
    "kmeans.cluster_centers_"
   ]
  }
 ],
 "metadata": {
  "kernelspec": {
   "display_name": "Python 3",
   "language": "python",
   "name": "python3"
  }
 },
 "nbformat": 4,
 "nbformat_minor": 2
}
